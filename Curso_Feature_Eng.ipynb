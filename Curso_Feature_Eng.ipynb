{
 "cells": [
  {
   "cell_type": "code",
   "execution_count": 1,
   "metadata": {},
   "outputs": [
    {
     "name": "stdout",
     "output_type": "stream",
     "text": [
      "Collecting feature-engine\n",
      "  Downloading feature_engine-1.7.0-py2.py3-none-any.whl (344 kB)\n",
      "     ------------------------------------ 344.3/344.3 kB 668.2 kB/s eta 0:00:00\n",
      "Collecting pandas>=2.2.0\n",
      "  Downloading pandas-2.2.2-cp39-cp39-win_amd64.whl (11.6 MB)\n",
      "     ---------------------------------------- 11.6/11.6 MB 2.0 MB/s eta 0:00:00\n",
      "Collecting scikit-learn>=1.4.0\n",
      "  Downloading scikit_learn-1.4.2-cp39-cp39-win_amd64.whl (10.6 MB)\n",
      "     ---------------------------------------- 10.6/10.6 MB 2.4 MB/s eta 0:00:00\n",
      "Requirement already satisfied: scipy>=1.4.1 in c:\\users\\detpc\\appdata\\roaming\\python\\python39\\site-packages (from feature-engine) (1.10.1)\n",
      "Requirement already satisfied: numpy>=1.18.2 in c:\\users\\detpc\\anaconda3\\new\\lib\\site-packages (from feature-engine) (1.26.2)\n",
      "Requirement already satisfied: statsmodels>=0.11.1 in c:\\users\\detpc\\anaconda3\\new\\lib\\site-packages (from feature-engine) (0.14.0)\n",
      "Requirement already satisfied: pytz>=2020.1 in c:\\users\\detpc\\anaconda3\\new\\lib\\site-packages (from pandas>=2.2.0->feature-engine) (2022.1)\n",
      "Requirement already satisfied: tzdata>=2022.7 in c:\\users\\detpc\\anaconda3\\new\\lib\\site-packages (from pandas>=2.2.0->feature-engine) (2023.3)\n",
      "Requirement already satisfied: python-dateutil>=2.8.2 in c:\\users\\detpc\\anaconda3\\new\\lib\\site-packages (from pandas>=2.2.0->feature-engine) (2.8.2)\n",
      "Requirement already satisfied: joblib>=1.2.0 in c:\\users\\detpc\\appdata\\roaming\\python\\python39\\site-packages (from scikit-learn>=1.4.0->feature-engine) (1.3.2)\n",
      "Requirement already satisfied: threadpoolctl>=2.0.0 in c:\\users\\detpc\\anaconda3\\new\\lib\\site-packages (from scikit-learn>=1.4.0->feature-engine) (2.2.0)\n",
      "Requirement already satisfied: patsy>=0.5.2 in c:\\users\\detpc\\anaconda3\\new\\lib\\site-packages (from statsmodels>=0.11.1->feature-engine) (0.5.2)\n",
      "Requirement already satisfied: packaging>=21.3 in c:\\users\\detpc\\anaconda3\\new\\lib\\site-packages (from statsmodels>=0.11.1->feature-engine) (21.3)\n",
      "Requirement already satisfied: pyparsing!=3.0.5,>=2.0.2 in c:\\users\\detpc\\anaconda3\\new\\lib\\site-packages (from packaging>=21.3->statsmodels>=0.11.1->feature-engine) (3.0.9)\n",
      "Requirement already satisfied: six in c:\\users\\detpc\\anaconda3\\new\\lib\\site-packages (from patsy>=0.5.2->statsmodels>=0.11.1->feature-engine) (1.16.0)\n",
      "Installing collected packages: scikit-learn, pandas, feature-engine\n",
      "  Attempting uninstall: scikit-learn\n",
      "    Found existing installation: scikit-learn 1.2.0\n",
      "    Uninstalling scikit-learn-1.2.0:\n",
      "      Successfully uninstalled scikit-learn-1.2.0\n",
      "  Attempting uninstall: pandas\n",
      "    Found existing installation: pandas 1.5.3\n",
      "    Uninstalling pandas-1.5.3:\n",
      "      Successfully uninstalled pandas-1.5.3\n",
      "Successfully installed feature-engine-1.7.0 pandas-2.2.2 scikit-learn-1.4.2\n",
      "Note: you may need to restart the kernel to use updated packages.\n"
     ]
    },
    {
     "name": "stderr",
     "output_type": "stream",
     "text": [
      "ERROR: pip's dependency resolver does not currently take into account all the packages that are installed. This behaviour is the source of the following dependency conflicts.\n",
      "pyclustertend 1.8.2 requires numpy==1.20.3, but you have numpy 1.26.2 which is incompatible.\n",
      "pyclustertend 1.8.2 requires pandas<2.0.0,>=1.2.0, but you have pandas 2.2.2 which is incompatible.\n",
      "skforecast 0.6.0 requires joblib<1.3.0,>=1.1.0, but you have joblib 1.3.2 which is incompatible.\n",
      "skforecast 0.6.0 requires numpy<1.24,>=1.20, but you have numpy 1.26.2 which is incompatible.\n",
      "skforecast 0.6.0 requires pandas<1.6,>=1.2, but you have pandas 2.2.2 which is incompatible.\n",
      "skforecast 0.6.0 requires scikit-learn<1.2,>=1.0, but you have scikit-learn 1.4.2 which is incompatible.\n",
      "pandasai 1.2.2 requires pandas==1.5.3, but you have pandas 2.2.2 which is incompatible.\n",
      "pandasai 1.2.2 requires pydantic<2,>=1, but you have pydantic 2.5.2 which is incompatible.\n",
      "mlflow 2.4.1 requires importlib-metadata!=4.7.0,<7,>=3.7.0, but you have importlib-metadata 7.0.0 which is incompatible.\n"
     ]
    }
   ],
   "source": [
    "%pip install feature-engine\n",
    "\n"
   ]
  },
  {
   "cell_type": "code",
   "execution_count": 2,
   "metadata": {},
   "outputs": [
    {
     "name": "stdout",
     "output_type": "stream",
     "text": [
      "Collecting category-encoders\n",
      "  Downloading category_encoders-2.6.3-py2.py3-none-any.whl (81 kB)\n",
      "     -------------------------------------- 81.9/81.9 kB 459.1 kB/s eta 0:00:00\n",
      "Requirement already satisfied: patsy>=0.5.1 in c:\\users\\detpc\\anaconda3\\new\\lib\\site-packages (from category-encoders) (0.5.2)\n",
      "Requirement already satisfied: numpy>=1.14.0 in c:\\users\\detpc\\anaconda3\\new\\lib\\site-packages (from category-encoders) (1.26.2)\n",
      "Requirement already satisfied: scipy>=1.0.0 in c:\\users\\detpc\\appdata\\roaming\\python\\python39\\site-packages (from category-encoders) (1.10.1)\n",
      "Requirement already satisfied: scikit-learn>=0.20.0 in c:\\users\\detpc\\anaconda3\\new\\lib\\site-packages (from category-encoders) (1.4.2)\n",
      "Requirement already satisfied: statsmodels>=0.9.0 in c:\\users\\detpc\\anaconda3\\new\\lib\\site-packages (from category-encoders) (0.14.0)\n",
      "Requirement already satisfied: pandas>=1.0.5 in c:\\users\\detpc\\anaconda3\\new\\lib\\site-packages (from category-encoders) (2.2.2)\n",
      "Requirement already satisfied: python-dateutil>=2.8.2 in c:\\users\\detpc\\anaconda3\\new\\lib\\site-packages (from pandas>=1.0.5->category-encoders) (2.8.2)\n",
      "Requirement already satisfied: tzdata>=2022.7 in c:\\users\\detpc\\anaconda3\\new\\lib\\site-packages (from pandas>=1.0.5->category-encoders) (2023.3)\n",
      "Requirement already satisfied: pytz>=2020.1 in c:\\users\\detpc\\anaconda3\\new\\lib\\site-packages (from pandas>=1.0.5->category-encoders) (2022.1)\n",
      "Requirement already satisfied: six in c:\\users\\detpc\\anaconda3\\new\\lib\\site-packages (from patsy>=0.5.1->category-encoders) (1.16.0)\n",
      "Requirement already satisfied: joblib>=1.2.0 in c:\\users\\detpc\\appdata\\roaming\\python\\python39\\site-packages (from scikit-learn>=0.20.0->category-encoders) (1.3.2)\n",
      "Requirement already satisfied: threadpoolctl>=2.0.0 in c:\\users\\detpc\\anaconda3\\new\\lib\\site-packages (from scikit-learn>=0.20.0->category-encoders) (2.2.0)\n",
      "Requirement already satisfied: packaging>=21.3 in c:\\users\\detpc\\anaconda3\\new\\lib\\site-packages (from statsmodels>=0.9.0->category-encoders) (21.3)\n",
      "Requirement already satisfied: pyparsing!=3.0.5,>=2.0.2 in c:\\users\\detpc\\anaconda3\\new\\lib\\site-packages (from packaging>=21.3->statsmodels>=0.9.0->category-encoders) (3.0.9)\n",
      "Installing collected packages: category-encoders\n",
      "Successfully installed category-encoders-2.6.3\n",
      "Note: you may need to restart the kernel to use updated packages.\n"
     ]
    }
   ],
   "source": [
    "%pip install category-encoders"
   ]
  },
  {
   "cell_type": "code",
   "execution_count": 4,
   "metadata": {},
   "outputs": [
    {
     "name": "stderr",
     "output_type": "stream",
     "text": [
      "c:\\Users\\DETPC\\anaconda3\\New\\lib\\site-packages\\pandas\\core\\computation\\expressions.py:21: UserWarning: Pandas requires version '2.8.4' or newer of 'numexpr' (version '2.8.3' currently installed).\n",
      "  from pandas.core.computation.check import NUMEXPR_INSTALLED\n",
      "c:\\Users\\DETPC\\anaconda3\\New\\lib\\site-packages\\pandas\\core\\arrays\\masked.py:60: UserWarning: Pandas requires version '1.3.6' or newer of 'bottleneck' (version '1.3.5' currently installed).\n",
      "  from pandas.core import (\n"
     ]
    }
   ],
   "source": [
    "import numpy\n",
    "import pandas\n",
    "import sklearn\n",
    "import scipy\n",
    "import statsmodels"
   ]
  },
  {
   "cell_type": "code",
   "execution_count": null,
   "metadata": {},
   "outputs": [],
   "source": []
  }
 ],
 "metadata": {
  "kernelspec": {
   "display_name": "myenv",
   "language": "python",
   "name": "myenv"
  },
  "language_info": {
   "codemirror_mode": {
    "name": "ipython",
    "version": 3
   },
   "file_extension": ".py",
   "mimetype": "text/x-python",
   "name": "python",
   "nbconvert_exporter": "python",
   "pygments_lexer": "ipython3",
   "version": "3.9.13"
  }
 },
 "nbformat": 4,
 "nbformat_minor": 2
}
